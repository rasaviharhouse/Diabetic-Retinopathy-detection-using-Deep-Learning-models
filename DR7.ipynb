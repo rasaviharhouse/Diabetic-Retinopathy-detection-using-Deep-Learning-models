{
  "nbformat": 4,
  "nbformat_minor": 0,
  "metadata": {
    "colab": {
      "provenance": [],
      "toc_visible": true
    },
    "kernelspec": {
      "name": "python3",
      "display_name": "Python 3"
    },
    "accelerator": "GPU",
    "gpuClass": "standard"
  },
  "cells": [
    {
      "cell_type": "code",
      "metadata": {
        "id": "Z7XYHIVpbr6R",
        "outputId": "38517ea8-7f2a-4a9d-90d0-bdd87a9667d3",
        "colab": {
          "base_uri": "https://localhost:8080/"
        }
      },
      "source": [
        "from google.colab import drive\n",
        "drive.mount('/content/MyDrive')"
      ],
      "execution_count": 1,
      "outputs": [
        {
          "output_type": "stream",
          "name": "stdout",
          "text": [
            "Drive already mounted at /content/MyDrive; to attempt to forcibly remount, call drive.mount(\"/content/MyDrive\", force_remount=True).\n"
          ]
        }
      ]
    },
    {
      "cell_type": "code",
      "metadata": {
        "id": "bxVMqk0ybRmy",
        "colab": {
          "base_uri": "https://localhost:8080/"
        },
        "outputId": "c0adf9d1-557a-4895-83a5-bab70b09f3a8"
      },
      "source": [
        "import os\n",
        "import pathlib\n",
        "import random\n",
        "!pip install numpy==1.21.6\n",
        "import numpy as np\n",
        "import pandas as pd\n",
        "from PIL import Image\n",
        "from random import shuffle\n",
        "import matplotlib.pyplot as plt\n",
        "\n",
        "%matplotlib inline"
      ],
      "execution_count": 2,
      "outputs": [
        {
          "output_type": "stream",
          "name": "stdout",
          "text": [
            "Looking in indexes: https://pypi.org/simple, https://us-python.pkg.dev/colab-wheels/public/simple/\n",
            "Requirement already satisfied: numpy==1.21.6 in /usr/local/lib/python3.9/dist-packages (1.21.6)\n"
          ]
        }
      ]
    },
    {
      "cell_type": "code",
      "metadata": {
        "id": "hvp7c3DsbwJs",
        "outputId": "d4c6a3bb-53af-465a-c710-dbf48a880dd2",
        "colab": {
          "base_uri": "https://localhost:8080/"
        }
      },
      "source": [
        "PATH= '/content/MyDrive/\"My Drive\"/train'\n",
        "print(PATH)"
      ],
      "execution_count": 3,
      "outputs": [
        {
          "output_type": "stream",
          "name": "stdout",
          "text": [
            "/content/MyDrive/\"My Drive\"/train\n"
          ]
        }
      ]
    },
    {
      "cell_type": "code",
      "metadata": {
        "id": "hiZ4tCUNcEzo",
        "outputId": "8507cc20-9a6c-4f31-cac1-45edcb0b857b",
        "colab": {
          "base_uri": "https://localhost:8080/"
        }
      },
      "source": [
        "data_root = pathlib.Path('/content/MyDrive/My Drive/Mini_Project/train')\n",
        "print(data_root)\n",
        "all_image_paths = list(data_root.glob('*.jpeg'))\n",
        "all_image_paths = [str(path) for path in all_image_paths]\n",
        "random.shuffle(all_image_paths)\n",
        "image_count = len(all_image_paths)\n",
        "print(\"count : \"+str(image_count))"
      ],
      "execution_count": 5,
      "outputs": [
        {
          "output_type": "stream",
          "name": "stdout",
          "text": [
            "/content/MyDrive/My Drive/Mini_Project/train\n",
            "count : 35165\n"
          ]
        }
      ]
    },
    {
      "cell_type": "code",
      "metadata": {
        "id": "B91ued37cONo",
        "outputId": "e5280dc0-ba24-458d-b652-59fe056925e7",
        "colab": {
          "base_uri": "https://localhost:8080/"
        }
      },
      "source": [
        "df=pd.read_csv('MyDrive/My Drive/Mini_Project/trainLabels.csv')\n",
        "print(df.head())"
      ],
      "execution_count": 6,
      "outputs": [
        {
          "output_type": "stream",
          "name": "stdout",
          "text": [
            "      image  level\n",
            "0   10_left      0\n",
            "1  10_right      0\n",
            "2   13_left      0\n",
            "3  13_right      0\n",
            "4   15_left      1\n"
          ]
        }
      ]
    },
    {
      "cell_type": "code",
      "metadata": {
        "id": "d9n6SLJrczlf",
        "outputId": "55bd0e4f-3a97-4923-9d42-4a4399299170",
        "colab": {
          "base_uri": "https://localhost:8080/"
        }
      },
      "source": [
        "# label_names = sorted(item.name for item in data_root.glob('*/') if item.is_dir())\n",
        "label_names=[i for i in range(5)]\n",
        "print('label_names : '+str(label_names))\n",
        "\n",
        "label_to_index = dict((name, index) for index,name in enumerate(label_names))"
      ],
      "execution_count": 7,
      "outputs": [
        {
          "output_type": "stream",
          "name": "stdout",
          "text": [
            "label_names : [0, 1, 2, 3, 4]\n"
          ]
        }
      ]
    },
    {
      "cell_type": "code",
      "metadata": {
        "id": "nwBySh5hdYXY"
      },
      "source": [
        "all_image_labels = list(df['level'])"
      ],
      "execution_count": 8,
      "outputs": []
    },
    {
      "cell_type": "code",
      "metadata": {
        "id": "pSIvroY8ddf6"
      },
      "source": [
        "'''function to load folder into arrays and \n",
        "then it returns that same array'''\n",
        "def loadImages(path):\n",
        "    # Put files into lists and return them as one list of size 4\n",
        "    image_files = sorted([os.path.join(path, 'train', file)\n",
        "         for file in os.listdir(path) if      file.endswith('.jpeg')])\n",
        "    return image_files"
      ],
      "execution_count": 9,
      "outputs": []
    },
    {
      "cell_type": "code",
      "metadata": {
        "id": "RsBZgFScdpr6"
      },
      "source": [
        "x=loadImages(data_root)"
      ],
      "execution_count": 10,
      "outputs": []
    },
    {
      "cell_type": "code",
      "metadata": {
        "id": "ngYJVy-HfC2R"
      },
      "source": [
        "# Display one image\n",
        "def display_one(a, title1 = \"Original\"):\n",
        "    plt.imshow(a), plt.title(title1)\n",
        "    plt.xticks([]), plt.yticks([])\n",
        "    plt.show()\n",
        "# Display two images\n",
        "def display(a, b, title1 = \"Original\", title2 = \"Edited\"):\n",
        "    plt.subplot(121), plt.imshow(a), plt.title(title1)\n",
        "    plt.xticks([]), plt.yticks([])\n",
        "    plt.subplot(122), plt.imshow(b), plt.title(title2)\n",
        "    plt.xticks([]), plt.yticks([])\n",
        "    plt.show()"
      ],
      "execution_count": 11,
      "outputs": []
    },
    {
      "cell_type": "code",
      "metadata": {
        "id": "sbMJBlxUfi_t",
        "outputId": "590b9327-33bf-4651-bb49-1db847a0eed8",
        "colab": {
          "base_uri": "https://localhost:8080/"
        }
      },
      "source": [
        "df['level'].value_counts()"
      ],
      "execution_count": 12,
      "outputs": [
        {
          "output_type": "execute_result",
          "data": {
            "text/plain": [
              "0    25810\n",
              "2     5292\n",
              "1     2443\n",
              "3      873\n",
              "4      708\n",
              "Name: level, dtype: int64"
            ]
          },
          "metadata": {},
          "execution_count": 12
        }
      ]
    },
    {
      "cell_type": "code",
      "metadata": {
        "id": "AECKyzV-frBj",
        "outputId": "84cac011-041b-41ae-e8e6-15c946714625",
        "colab": {
          "base_uri": "https://localhost:8080/"
        }
      },
      "source": [
        "DIR = data_root\n",
        "\n",
        "# Want to know how we should format the height x width image data dimensions\n",
        "# for inputting to a keras model\n",
        "def get_size_statistics():\n",
        "    heights = []\n",
        "    widths = []\n",
        "    img_count = 0\n",
        "    for img in os.listdir(DIR):\n",
        "        data_root = os.path.join(DIR, img)\n",
        "        if img_count<250:\n",
        "            data = np.array(Image.open(data_root))\n",
        "            heights.append(data.shape[0])\n",
        "            widths.append(data.shape[1])\n",
        "            img_count += 1\n",
        "    avg_height = sum(heights) / len(heights)\n",
        "    avg_width = sum(widths) / len(widths)\n",
        "    print(\"Average Height: \" + str(avg_height))\n",
        "    print(\"Max Height: \" + str(max(heights)))\n",
        "    print(\"Min Height: \" + str(min(heights)))\n",
        "    print('\\n')\n",
        "    print(\"Average Width: \" + str(avg_width))\n",
        "    print(\"Max Width: \" + str(max(widths)))\n",
        "    print(\"Min Width: \" + str(min(widths)))\n",
        "\n",
        "get_size_statistics()"
      ],
      "execution_count": 13,
      "outputs": [
        {
          "output_type": "stream",
          "name": "stdout",
          "text": [
            "Average Height: 700.52\n",
            "Max Height: 768\n",
            "Min Height: 679\n",
            "\n",
            "\n",
            "Average Width: 1024.0\n",
            "Max Width: 1024\n",
            "Min Width: 1024\n"
          ]
        }
      ]
    },
    {
      "cell_type": "code",
      "metadata": {
        "id": "BtWaJ9K9fyWS"
      },
      "source": [
        "def label_img(name):\n",
        "    # print(name)\n",
        "    if(' (' in name):\n",
        "      n=name.split('.')[0]\n",
        "      n=n[:-4]      \n",
        "    else:\n",
        "      n=name.split('.')[0]\n",
        "    cdf = df[df['image'] == n]\n",
        "    label = cdf['level'].values[0]\n",
        "    l=[0]*5\n",
        "    l[label]=1\n",
        "    return np.array(l)"
      ],
      "execution_count": 14,
      "outputs": []
    },
    {
      "cell_type": "code",
      "metadata": {
        "id": "AEv3Jwz7gd6B"
      },
      "source": [
        "# Detection of Diabetic Retinopathy\n",
        "\n",
        "IMG_SIZE = 299\n",
        "\n",
        "def load_training_data():\n",
        "    DIR = data_root\n",
        "    train_data = []\n",
        "    img_count = 0\n",
        "    zc=0\n",
        "    oc=0\n",
        "    for img in os.listdir(data_root):\n",
        "        label = label_img(img)\n",
        "        img_count = img_count+1\n",
        "        if(label[0]==1):\n",
        "          zc+=1\n",
        "        else:\n",
        "          oc+=1\n",
        "        pat = os.path.join(data_root, img)\n",
        "        if(img_count>250):\n",
        "            break\n",
        "        if img_count<250:\n",
        "            img = Image.open(pat)\n",
        "            img = img.resize((IMG_SIZE,299), Image.ANTIALIAS)\n",
        "            train_data.append([np.array(img), label])\n",
        "        \n",
        "    shuffle(train_data)\n",
        "    return train_data\n",
        "# def load_training_data():\n",
        "#     train_data = []\n",
        "#     img_count = 0\n",
        "#     zc=0\n",
        "#     oc=0\n",
        "#     for img in os.listdir(data_root):\n",
        "#         label = label_img(img)\n",
        "#         img_count = img_count+1\n",
        "#         if(label[0]==0):\n",
        "#           zc+=1\n",
        "#         else:\n",
        "#           oc+=1\n",
        "#         pat = os.path.join(data_root, img)\n",
        "#         # To make training data distribution uniform\n",
        "#         if(zc!=oc):\n",
        "#           continue\n",
        "#         if(img_count>250):\n",
        "#             break\n",
        "#         if img_count<250:\n",
        "#             img = Image.open(pat)\n",
        "#             img = img.resize((IMG_SIZE,299), Image.ANTIALIAS)\n",
        "#             train_data.append([np.array(img), label])\n",
        "        \n",
        "#     shuffle(train_data)\n",
        "#     return train_data"
      ],
      "execution_count": 15,
      "outputs": []
    },
    {
      "cell_type": "code",
      "metadata": {
        "id": "ce0yEDLdmazJ"
      },
      "source": [
        "# Grading of Diabetic Retinopathy\n",
        "\n",
        "def load_training_data2():\n",
        "    train_data = []\n",
        "    img_count = 0\n",
        "    for img in os.listdir(data_root):\n",
        "        label = label_img(img)\n",
        "        if(list(label)[0]==1):\n",
        "          continue\n",
        "        img_count = img_count+1\n",
        "        pat = os.path.join(data_root, img)\n",
        "        if(img_count>250):\n",
        "            break\n",
        "        if img_count<250:\n",
        "            img = Image.open(pat)\n",
        "            img = img.resize((IMG_SIZE,299), Image.ANTIALIAS)\n",
        "            train_data.append([np.array(img), label])\n",
        "        \n",
        "    shuffle(train_data)\n",
        "    return train_data"
      ],
      "execution_count": 16,
      "outputs": []
    },
    {
      "cell_type": "code",
      "source": [
        "train_data = load_training_data()\n",
        "print(len(train_data))\n",
        "# train, validate, test = np.split(train_data, [int(.6*len(train_data)), int(.8*len(train_data))])\n",
        "train, test = np.split(train_data, [int(.8*len(train_data))])"
      ],
      "metadata": {
        "colab": {
          "base_uri": "https://localhost:8080/"
        },
        "id": "xx3Biwh0PKc_",
        "outputId": "b07c6d34-b8ce-4923-8d08-359bfbaf011d"
      },
      "execution_count": 17,
      "outputs": [
        {
          "output_type": "stream",
          "name": "stdout",
          "text": [
            "249\n"
          ]
        },
        {
          "output_type": "stream",
          "name": "stderr",
          "text": [
            "/usr/local/lib/python3.9/dist-packages/numpy/core/fromnumeric.py:43: VisibleDeprecationWarning: Creating an ndarray from ragged nested sequences (which is a list-or-tuple of lists-or-tuples-or ndarrays with different lengths or shapes) is deprecated. If you meant to do this, you must specify 'dtype=object' when creating the ndarray.\n",
            "  result = getattr(asarray(obj), method)(*args, **kwds)\n"
          ]
        }
      ]
    },
    {
      "cell_type": "code",
      "metadata": {
        "id": "9DG_I6e3gprk",
        "outputId": "7c89a795-d792-44c8-8ec7-36173246a9ae",
        "colab": {
          "base_uri": "https://localhost:8080/"
        }
      },
      "source": [
        "train_data2 = load_training_data2()\n",
        "print(len(train_data2))\n",
        "train2, test2 = np.split(train_data2, [int(.8*len(train_data2))])"
      ],
      "execution_count": 19,
      "outputs": [
        {
          "output_type": "stream",
          "name": "stdout",
          "text": [
            "249\n"
          ]
        }
      ]
    },
    {
      "cell_type": "code",
      "metadata": {
        "id": "hEXJ9UtlgwN3",
        "outputId": "dbd868cf-89aa-4645-f7fc-51331634bdf8",
        "colab": {
          "base_uri": "https://localhost:8080/",
          "height": 287
        }
      },
      "source": [
        "plt.imshow(train_data2[15][0])#, cmap = 'gist_gray')"
      ],
      "execution_count": 20,
      "outputs": [
        {
          "output_type": "execute_result",
          "data": {
            "text/plain": [
              "<matplotlib.image.AxesImage at 0x7f8fdd6bf8b0>"
            ]
          },
          "metadata": {},
          "execution_count": 20
        },
        {
          "output_type": "display_data",
          "data": {
            "text/plain": [
              "<Figure size 432x288 with 1 Axes>"
            ],
            "image/png": "[encoded data removed]"
          },
          "metadata": {
            "needs_background": "light"
          }
        }
      ]
    },
    {
      "cell_type": "code",
      "metadata": {
        "id": "C5xFTwIUfq0Y",
        "outputId": "8e5abca0-5c42-4cef-d9fa-0e9cf738da80",
        "colab": {
          "base_uri": "https://localhost:8080/"
        }
      },
      "source": [
        "trainImages = np.array([i[0] for i in train]).reshape(-1, 299, 299, 3)\n",
        "trainImages2 = np.array([i[0] for i in train2]).reshape(-1, 299, 299, 3)\n",
        "trainLabels = np.array([i[1] for i in train])\n",
        "\n",
        "testImages = np.array([i[0] for i in test]).reshape(-1, 299, 299, 3)\n",
        "testImages2 = np.array([i[0] for i in test2]).reshape(-1, 299, 299, 3)\n",
        "trainLabels1 = np.array([0 if(i[1][0]==1) else 1 for i in train])\n",
        "testLabels1 = np.array([0 if(i[1][0]==1) else 1 for i in test])\n",
        "\n",
        "li=[]\n",
        "for i in train2:\n",
        "  if(i[1][1]==1):\n",
        "    li.append(1)\n",
        "  if(i[1][2]==1):\n",
        "    li.append(2)\n",
        "  if(i[1][3]==1):\n",
        "    li.append(3)\n",
        "  if(i[1][4]==1):\n",
        "    li.append(4)\n",
        "\n",
        "trainLabels2 = np.array(li)\n",
        "# print(trainLabels1)\n",
        "# print(trainLabels2)\n",
        "\n",
        "\n",
        "zi=[]\n",
        "for i in test2:\n",
        "  if(i[1][1]==1):\n",
        "    zi.append(1)\n",
        "  if(i[1][2]==1):\n",
        "    zi.append(2)\n",
        "  if(i[1][3]==1):\n",
        "    zi.append(3)\n",
        "  if(i[1][4]==1):\n",
        "    zi.append(4)\n",
        "testLabels2=np.array(zi)\n",
        "# print(testLabels1)\n",
        "# print(testLabels2)\n",
        "\n",
        "trainImages.shape"
      ],
      "execution_count": 21,
      "outputs": [
        {
          "output_type": "execute_result",
          "data": {
            "text/plain": [
              "(199, 299, 299, 3)"
            ]
          },
          "metadata": {},
          "execution_count": 21
        }
      ]
    },
    {
      "cell_type": "code",
      "metadata": {
        "id": "0T8TzXZefOF_",
        "outputId": "4687573e-a8b5-419e-c908-e634963ff00d",
        "colab": {
          "base_uri": "https://localhost:8080/"
        }
      },
      "source": [
        "import tensorflow as tf\n",
        "import keras\n",
        "from keras import optimizers\n",
        "from keras.preprocessing import image\n",
        "from keras.models import Sequential\n",
        "from keras.models import Model\n",
        "from keras.models import load_model\n",
        "from keras.utils import to_categorical\n",
        "from keras.preprocessing.image import ImageDataGenerator\n",
        "from keras.layers import Input, Dense, Dropout, Flatten, LeakyReLU, Activation\n",
        "from keras.layers import Conv2D, MaxPooling2D, GlobalAveragePooling2D, AveragePooling2D\n",
        "\n",
        "from keras.applications.inception_v3 import InceptionV3\n",
        "from keras.applications.inception_v3 import preprocess_input\n",
        "from keras.applications.inception_v3 import decode_predictions\n",
        "\n",
        "from keras.layers import LeakyReLU\n",
        "LR = LeakyReLU()\n",
        "LR.__name__ = 'relu'\n",
        "\n",
        "from keras.applications.xception import Xception\n",
        "from keras.applications.inception_resnet_v2 import InceptionResNetV2\n",
        "from tensorflow.keras.applications.resnet50 import ResNet50\n",
        "from tensorflow.keras.applications.resnet50 import preprocess_input, decode_predictions\n",
        "from keras.applications.densenet import DenseNet169\n",
        "from keras.applications.densenet import DenseNet201\n",
        "\n",
        "from keras.callbacks import EarlyStopping\n",
        "early_stopping = EarlyStopping(monitor='val_loss', patience=15)\n",
        "\n",
        "from keras.callbacks import ModelCheckpoint   \n",
        "checkpointer = ModelCheckpoint(filepath='DR.model.best.hdf5', monitor = 'val_acc', mode = 'auto',period = 1,verbose=1, save_best_only=True)\n",
        "\n",
        "from keras.callbacks import ReduceLROnPlateau\n",
        "reduce_lr = ReduceLROnPlateau(monitor='val_acc', factor=0.5, patience=10, epsilon=0.0001, min_lr=0.001)"
      ],
      "execution_count": 22,
      "outputs": [
        {
          "output_type": "stream",
          "name": "stderr",
          "text": [
            "WARNING:tensorflow:`period` argument is deprecated. Please use `save_freq` to specify the frequency in number of batches seen.\n",
            "WARNING:tensorflow:`epsilon` argument is deprecated and will be removed, use `min_delta` instead.\n"
          ]
        }
      ]
    },
    {
      "cell_type": "code",
      "metadata": {
        "id": "jZKdq_UgoN9z"
      },
      "source": [
        "y=to_categorical(trainLabels1)\n",
        "Y=to_categorical(trainLabels2)\n",
        "# y\n",
        "p=list(Y)\n",
        "for i in range(len(p)):\n",
        "  z=list(p[i])\n",
        "  z.pop(0)\n",
        "  p[i]=np.array(z)\n",
        "\n",
        "# print(y)\n",
        "p=np.array(p)\n",
        "# p\n",
        "\n"
      ],
      "execution_count": 23,
      "outputs": []
    },
    {
      "cell_type": "code",
      "metadata": {
        "id": "yqoabULiT4A7"
      },
      "source": [
        "y1=to_categorical(testLabels1)\n",
        "Y1=to_categorical(testLabels2)\n",
        "# print(y1)\n",
        "p1=list(Y1)\n",
        "for i in range(len(p1)):\n",
        "  z=list(p1[i])\n",
        "  z.pop(0)\n",
        "  p1[i]=np.array(z)\n",
        "\n",
        "# print(y1)\n",
        "p1=np.array(p1)\n",
        "# p1"
      ],
      "execution_count": 24,
      "outputs": []
    },
    {
      "cell_type": "code",
      "metadata": {
        "id": "SqIeNU88lWsa",
        "outputId": "067e5a71-f638-4b25-acd9-078c66bfcd46",
        "colab": {
          "base_uri": "https://localhost:8080/"
        }
      },
      "source": [
        "IV3model = InceptionV3(include_top=False, weights='imagenet', input_tensor=None, input_shape=(299,299,3), pooling='avg')#, classes=1000)"
      ],
      "execution_count": 25,
      "outputs": [
        {
          "output_type": "stream",
          "name": "stdout",
          "text": [
            "Downloading data from https://storage.googleapis.com/tensorflow/keras-applications/inception_v3/inception_v3_weights_tf_dim_ordering_tf_kernels_notop.h5\n",
            "87910968/87910968 [==============================] - 0s 0us/step\n"
          ]
        }
      ]
    },
    {
      "cell_type": "code",
      "metadata": {
        "id": "G2NmJbuilaLR",
        "outputId": "901ce766-7fac-4888-855e-e628524a5aeb",
        "colab": {
          "base_uri": "https://localhost:8080/"
        }
      },
      "source": [
        "Xmodel = Xception(include_top=False, weights='imagenet', input_tensor=None, input_shape=None, pooling='avg')#, classes=1000)"
      ],
      "execution_count": 26,
      "outputs": [
        {
          "output_type": "stream",
          "name": "stdout",
          "text": [
            "Downloading data from https://storage.googleapis.com/tensorflow/keras-applications/xception/xception_weights_tf_dim_ordering_tf_kernels_notop.h5\n",
            "83683744/83683744 [==============================] - 0s 0us/step\n"
          ]
        }
      ]
    },
    {
      "cell_type": "code",
      "metadata": {
        "id": "TiPUplTclk55",
        "outputId": "16e09246-cbba-455f-f2b7-5fda364a3b36",
        "colab": {
          "base_uri": "https://localhost:8080/"
        }
      },
      "source": [
        "IRV2model = InceptionResNetV2(include_top=False, weights='imagenet', input_tensor=None, input_shape=None, pooling='avg')#, classes=1000)"
      ],
      "execution_count": 27,
      "outputs": [
        {
          "output_type": "stream",
          "name": "stdout",
          "text": [
            "Downloading data from https://storage.googleapis.com/tensorflow/keras-applications/inception_resnet_v2/inception_resnet_v2_weights_tf_dim_ordering_tf_kernels_notop.h5\n",
            "219055592/219055592 [==============================] - 2s 0us/step\n"
          ]
        }
      ]
    },
    {
      "cell_type": "code",
      "metadata": {
        "id": "gg4cY3_IaZSd"
      },
      "source": [
        "# fit model on dataset\n",
        "def fit_model(trainX, trainy):\n",
        "\t# define model\n",
        "  for layer in IV3model.layers:\n",
        "      layer.trainable = False\n",
        "  for layer in Xmodel.layers:\n",
        "      layer.trainable = False\n",
        "  for layer in IRV2model.layers:\n",
        "      layer.trainable = False\n",
        "\n",
        "  def mod(m):\n",
        "      # model = Model(inputs=m.inputs, outputs=m.layers[-1].output)\n",
        "      # print(m.inputs)\n",
        "      x = m.layers[-1].output\n",
        "      # x=Flatten()(x)\n",
        "      x=keras.layers.Dense(1024)(x)\n",
        "      x=LeakyReLU(alpha=0.2)(x)\n",
        "      x=Dropout(0.25)(x)\n",
        "      x=keras.layers.Dense(512)(x)\n",
        "      x=LeakyReLU(alpha=0.2)(x)\n",
        "      x=Dropout(0.5)(x)\n",
        "      x=keras.layers.Dense(256)(x)\n",
        "      x=LeakyReLU(alpha=0.2)(x)\n",
        "      x=Dropout(0.5)(x)\n",
        "      x=keras.layers.Dense(128)(x)\n",
        "      # return x\n",
        "      x=LeakyReLU(alpha=0.2)(x)\n",
        "      x=Dropout(0.5)(x)\n",
        "      return x\n",
        "      # x=keras.layers.Dense(2,activation='softmax')(x)#, activation=LeakyReLU(alpha=0.2))(x)\n",
        "      # x=Activation('softmax')(x)\n",
        "      # return x\n",
        "      # sdnn=Model(inputs=model.input,outputs=x)  \n",
        "      # return sdnn\n",
        "      # sdnn.compile(loss = 'binary_crossentropy', optimizer = optimizers.RMSprop(lr = 2e-4), metrics = ['accuracy'])\n",
        "    # fit model\n",
        "      # sdnn.fit(x=trainImages,y=to_categorical(trainLabels1),batch_size=32,epochs=300,validation_split=0.2,class_weight='auto', callbacks=[early_stopping,checkpointer,reduce_lr],verbose=1)\n",
        "      # return sdnn\n",
        "  sdnn1 = mod(IV3model)\n",
        "  sdnn2 = mod(Xmodel)\n",
        "  sdnn3 = mod(IRV2model)\n",
        "  # print(sdnn1)\n",
        "  x = keras.layers.Average()([sdnn1, sdnn2, sdnn3])\n",
        "  main_output = Dense(2, activation='softmax')(x)\n",
        "  # print(IV3model.inputs)\n",
        "  # print(type(IV3model.inputs))\n",
        "  model = Model(inputs=[IV3model.inputs[0],Xmodel.inputs[0],IRV2model.inputs[0]], outputs=[main_output])\n",
        "  # print(model.summary())\n",
        "  return model"
      ],
      "execution_count": 28,
      "outputs": []
    },
    {
      "cell_type": "code",
      "metadata": {
        "id": "zUE1JoK1lzoO"
      },
      "source": [
        "res = fit_model(trainImages,to_categorical(trainLabels1))\t\n",
        "# res\n",
        "from keras.utils import plot_model\n",
        "plot_model(res, to_file='model.png',show_shapes=False,show_layer_names=False)"
      ],
      "execution_count": null,
      "outputs": []
    },
    {
      "cell_type": "code",
      "metadata": {
        "id": "jOCQ-2w7eeHh"
      },
      "source": [
        "res.compile(loss = 'binary_crossentropy', optimizer = optimizers.RMSprop(learning_rate = 2e-4), metrics = ['accuracy'])"
      ],
      "execution_count": 30,
      "outputs": []
    },
    {
      "cell_type": "code",
      "metadata": {
        "id": "3kslnJ7sVEdI",
        "outputId": "008f1ab1-0fb3-4085-9869-77e37f3a3d81",
        "colab": {
          "base_uri": "https://localhost:8080/"
        }
      },
      "source": [
        "res.fit(x=[trainImages,trainImages,trainImages],y=y,batch_size=32,epochs=300,validation_split=0.2,class_weight=None, callbacks=[early_stopping,checkpointer,reduce_lr],verbose=0)"
      ],
      "execution_count": 31,
      "outputs": [
        {
          "output_type": "stream",
          "name": "stderr",
          "text": [
            "WARNING:tensorflow:Can save best model only with val_acc available, skipping.\n",
            "WARNING:tensorflow:Learning rate reduction is conditioned on metric `val_acc` which is not available. Available metrics are: loss,accuracy,val_loss,val_accuracy,lr\n",
            "WARNING:tensorflow:Can save best model only with val_acc available, skipping.\n",
            "WARNING:tensorflow:Learning rate reduction is conditioned on metric `val_acc` which is not available. Available metrics are: loss,accuracy,val_loss,val_accuracy,lr\n",
            "WARNING:tensorflow:Can save best model only with val_acc available, skipping.\n",
            "WARNING:tensorflow:Learning rate reduction is conditioned on metric `val_acc` which is not available. Available metrics are: loss,accuracy,val_loss,val_accuracy,lr\n",
            "WARNING:tensorflow:Can save best model only with val_acc available, skipping.\n",
            "WARNING:tensorflow:Learning rate reduction is conditioned on metric `val_acc` which is not available. Available metrics are: loss,accuracy,val_loss,val_accuracy,lr\n",
            "WARNING:tensorflow:Can save best model only with val_acc available, skipping.\n",
            "WARNING:tensorflow:Learning rate reduction is conditioned on metric `val_acc` which is not available. Available metrics are: loss,accuracy,val_loss,val_accuracy,lr\n"
          ]
        },
        {
          "output_type": "execute_result",
          "data": {
            "text/plain": [
              "<keras.callbacks.History at 0x7f8ec6492df0>"
            ]
          },
          "metadata": {},
          "execution_count": 31
        }
      ]
    },
    {
      "cell_type": "code",
      "metadata": {
        "id": "QSvuVh-4RpAG",
        "outputId": "9394e8f2-2a31-4733-d0b8-223620f1d627",
        "colab": {
          "base_uri": "https://localhost:8080/"
        }
      },
      "source": [
        "res.evaluate(x=[testImages,testImages,testImages], y=to_categorical(testLabels1))#, batch_size=None, verbose=1, sample_weight=None, steps=None, callbacks=None, max_queue_size=10, workers=1, use_multiprocessing=False)"
      ],
      "execution_count": 32,
      "outputs": [
        {
          "output_type": "stream",
          "name": "stdout",
          "text": [
            "2/2 [==============================] - 5s 5s/step - loss: 0.8643 - accuracy: 0.8400\n"
          ]
        },
        {
          "output_type": "execute_result",
          "data": {
            "text/plain": [
              "[0.8642941117286682, 0.8399999737739563]"
            ]
          },
          "metadata": {},
          "execution_count": 32
        }
      ]
    },
    {
      "cell_type": "code",
      "metadata": {
        "id": "hRWPE67_nkbz"
      },
      "source": [
        "resfeatures = res.predict([testImages,testImages,testImages],batch_size = 32, verbose = 0)\n",
        "# print(resfeatures)"
      ],
      "execution_count": 33,
      "outputs": []
    },
    {
      "cell_type": "code",
      "metadata": {
        "id": "H7r93Taajh5Z",
        "outputId": "5371fa84-1ae5-40ff-8224-c419b5d53caa",
        "colab": {
          "base_uri": "https://localhost:8080/"
        }
      },
      "source": [
        "RN50model = ResNet50(weights='imagenet',pooling = 'avg',include_top = False)\n",
        "# for l in RN50model.layers:\n",
        "  # l.name = \"%s_workaround1\" % l.name"
      ],
      "execution_count": 34,
      "outputs": [
        {
          "output_type": "stream",
          "name": "stdout",
          "text": [
            "Downloading data from https://storage.googleapis.com/tensorflow/keras-applications/resnet/resnet50_weights_tf_dim_ordering_tf_kernels_notop.h5\n",
            "94765736/94765736 [==============================] - 0s 0us/step\n"
          ]
        }
      ]
    },
    {
      "cell_type": "code",
      "metadata": {
        "id": "VgwItcSsjmjC",
        "outputId": "09ebf412-3310-41ef-e057-039f1212fb70",
        "colab": {
          "base_uri": "https://localhost:8080/"
        }
      },
      "source": [
        "DN169model = DenseNet169(include_top=False, weights='imagenet', input_tensor=None, input_shape=None, pooling='avg')#, classes=1000)\n",
        "# for l in DN169model.layers:\n",
        "#   l.name = \"%s_workaround2\" % l.name"
      ],
      "execution_count": 35,
      "outputs": [
        {
          "output_type": "stream",
          "name": "stdout",
          "text": [
            "Downloading data from https://storage.googleapis.com/tensorflow/keras-applications/densenet/densenet169_weights_tf_dim_ordering_tf_kernels_notop.h5\n",
            "51877672/51877672 [==============================] - 0s 0us/step\n"
          ]
        }
      ]
    },
    {
      "cell_type": "code",
      "metadata": {
        "id": "QpfSUjywjtY6",
        "outputId": "47d25427-9f5b-4a52-ff5d-4483bb36d153",
        "colab": {
          "base_uri": "https://localhost:8080/"
        }
      },
      "source": [
        "DN201model = DenseNet201(include_top=False, weights='imagenet', input_tensor=None, input_shape=None, pooling='avg')#, classes=1000)\n",
        "# for l in DN201model.layers:\n",
        "#   l.name = \"%s_workaround3\" % l.name"
      ],
      "execution_count": 36,
      "outputs": [
        {
          "output_type": "stream",
          "name": "stdout",
          "text": [
            "Downloading data from https://storage.googleapis.com/tensorflow/keras-applications/densenet/densenet201_weights_tf_dim_ordering_tf_kernels_notop.h5\n",
            "74836368/74836368 [==============================] - 0s 0us/step\n"
          ]
        }
      ]
    },
    {
      "cell_type": "code",
      "metadata": {
        "id": "l3-R1lkMqjJ-"
      },
      "source": [
        "# fit model on dataset\n",
        "def fit_model1(trainX, trainy):\n",
        "\t# define model\n",
        "  for layer in RN50model.layers:\n",
        "      layer.trainable = True\n",
        "      layer._name = layer.name + str(\"_mirror1\")\n",
        "  for layer in DN169model.layers:\n",
        "      layer.trainable = True\n",
        "      layer._name = layer.name + str(\"_mirror2\")\n",
        "  for layer in DN201model.layers:\n",
        "      layer.trainable = True\n",
        "      layer._name = layer.name + str(\"_mirror3\")\n",
        "  \n",
        "  def mod(m):\n",
        "      # model = Model(inputs=m.inputs, outputs=m.layers[-1].output)\n",
        "      # print(m.inputs)\n",
        "      x = m.layers[-1].output\n",
        "      # x=Flatten()(x)\n",
        "      x=keras.layers.Dense(2048)(x)#, activation=LeakyReLU(alpha=0.2))(x)\n",
        "      x=LeakyReLU(alpha=0.2)(x)\n",
        "      x=Dropout(0.25)(x)\n",
        "      x=keras.layers.Dense(1024)(x)#, activation=LeakyReLU(alpha=0.2))(x)\n",
        "      x=LeakyReLU(alpha=0.2)(x)\n",
        "      x=Dropout(0.5)(x)\n",
        "      x=keras.layers.Dense(512)(x)#, activation=LeakyReLU(alpha=0.2))(x)\n",
        "      x=LeakyReLU(alpha=0.2)(x)\n",
        "      x=Dropout(0.5)(x)\n",
        "      x=keras.layers.Dense(256)(x)#, activation=LeakyReLU(alpha=0.2))(x)\n",
        "      # return x\n",
        "      x=LeakyReLU(alpha=0.2)(x)\n",
        "      x=Dropout(0.5)(x)\n",
        "      return x\n",
        "      x=keras.layers.Dense(4,activation='softmax')(x)#, activation=LeakyReLU(alpha=0.2))(x)\n",
        "      # x=Activation('softmax')(x)\n",
        "      # return x\n",
        "      sdnn=Model(inputs=model.input,outputs=x)  \n",
        "\n",
        "  sdnn1 = mod(RN50model)\n",
        "  sdnn2 = mod(DN169model)\n",
        "  sdnn3 = mod(DN201model)\n",
        "  # print(sdnn1)\n",
        "  x = keras.layers.Average()([sdnn1, sdnn2, sdnn3])\n",
        "  main_output1 = Dense(4, activation='softmax', name='main_output')(x)\n",
        "  # return x\n",
        "  # print(RN50model.inputs)\n",
        "  # print(type(RN50model.inputs))\n",
        "  # Inputs = list of tensors\n",
        "  # output = tensor\n",
        "  # print(main_output)\n",
        "  model = Model(inputs=[RN50model.inputs[0],DN169model.inputs[0],DN201model.inputs[0]], outputs=[main_output1])\n",
        "  # print(model.summary())\n",
        "  return model"
      ],
      "execution_count": 37,
      "outputs": []
    },
    {
      "cell_type": "code",
      "metadata": {
        "id": "s26fB2nwrd1v"
      },
      "source": [
        "res1 = fit_model1(trainImages2,p)\t\n",
        "# res1\n",
        "from keras.utils import plot_model\n",
        "plot_model(res1, to_file='model1.png', show_shapes=False, show_layer_names=False)"
      ],
      "execution_count": null,
      "outputs": []
    },
    {
      "cell_type": "code",
      "metadata": {
        "id": "obHmF0Xv-1iY"
      },
      "source": [
        "res1.compile(loss = 'categorical_crossentropy', optimizer = optimizers.RMSprop(learning_rate = 2e-4), metrics = ['accuracy'])"
      ],
      "execution_count": 39,
      "outputs": []
    },
    {
      "cell_type": "code",
      "metadata": {
        "id": "Bu4JJFQ4PN6b"
      },
      "source": [
        "res1.fit(x=[trainImages2,trainImages2,trainImages2],y=p,batch_size=32,epochs=300,validation_split=0.2,class_weight=None, callbacks=[early_stopping,checkpointer,reduce_lr],verbose=0)"
      ],
      "execution_count": null,
      "outputs": []
    },
    {
      "cell_type": "code",
      "metadata": {
        "id": "5UA0ZWbCR3YV",
        "outputId": "c6d625c3-1151-4c38-d62e-b177ac8c87a1",
        "colab": {
          "base_uri": "https://localhost:8080/"
        }
      },
      "source": [
        "res1.evaluate(x=[testImages2,testImages2,testImages2], y=p1, batch_size=32, verbose=1, sample_weight=None, steps=None, callbacks=None, max_queue_size=10, workers=1, use_multiprocessing=False)"
      ],
      "execution_count": 43,
      "outputs": [
        {
          "output_type": "stream",
          "name": "stdout",
          "text": [
            "2/2 [==============================] - 19s 5s/step - loss: 1.3474 - accuracy: 0.3000\n"
          ]
        },
        {
          "output_type": "execute_result",
          "data": {
            "text/plain": [
              "[1.3473635911941528, 0.30000001192092896]"
            ]
          },
          "metadata": {},
          "execution_count": 43
        }
      ]
    },
    {
      "cell_type": "code",
      "metadata": {
        "id": "IAKRq6F1PV_2",
        "outputId": "892cd18f-3ade-407f-aa2f-c66fcfeccb10",
        "colab": {
          "base_uri": "https://localhost:8080/"
        }
      },
      "source": [
        "res1features = res1.predict([testImages2,testImages2,testImages2],batch_size = 32, verbose = 0)\n",
        "# print(res1features)"
      ],
      "execution_count": 44,
      "outputs": [
        {
          "output_type": "stream",
          "name": "stdout",
          "text": [
            "2/2 [==============================] - 8s 411ms/step\n"
          ]
        }
      ]
    },
    {
      "cell_type": "code",
      "source": [
        "# !pip install httplib2==0.15.0\n",
        "# !pip install google-api-python-client==1.6"
      ],
      "metadata": {
        "id": "p5TZC2MZTdH9"
      },
      "execution_count": 57,
      "outputs": []
    },
    {
      "cell_type": "code",
      "metadata": {
        "id": "8hvnRpuIWIKU"
      },
      "source": [
        "# !pip install -U -q PyDrive\n",
        "# from pydrive.auth import GoogleAuth\n",
        "# from pydrive.drive import GoogleDrive\n",
        "# from google.colab import auth\n",
        "# from oauth2client.client import GoogleCredentials\n",
        "\n",
        "# # 1. Authenticate and create the PyDrive client.\n",
        "# auth.authenticate_user()\n",
        "# gauth = GoogleAuth()\n",
        "# gauth.credentials = GoogleCredentials.get_application_default()\n",
        "# drive = GoogleDrive(gauth)"
      ],
      "execution_count": 58,
      "outputs": []
    },
    {
      "cell_type": "code",
      "metadata": {
        "id": "q0dnpl-sTmOP"
      },
      "source": [
        "# res.save('model.h5')  # creates a HDF5 file 'model.h5'\n",
        "# model_file = drive.CreateFile({'title' : 'model.h5'})  \n",
        "# model_file.SetContentFile('model.h5')\n",
        "# model_file.Upload()\n",
        "\n",
        "# load the weights that yielded the best validation accuracy\n",
        "# sdnn1.load_weights('sdnn1.best.hdf5')\n",
        "# sdnn2.load_weights('sdnn2.best.hdf5')\n",
        "# sdnn3.load_weights('sdnn3.best.hdf5')\n",
        "# sdnn4.load_weights('sdnn4.best.hdf5')\n",
        "# sdnn5.load_weights('sdnn5.best.hdf5')\n",
        "# sdnn6.load_weights('sdnn6.best.hdf5')"
      ],
      "execution_count": 59,
      "outputs": []
    },
    {
      "cell_type": "code",
      "metadata": {
        "id": "xyYYRxFaTKrR"
      },
      "source": [
        "# res1.save('model2.h5')  # creates a HDF5 file 'model2.h5'\n",
        "# model_file = drive.CreateFile({'title' : 'model2.h5'})  \n",
        "# model_file.SetContentFile('model2.h5')\n",
        "# model_file.Upload()"
      ],
      "execution_count": 60,
      "outputs": []
    },
    {
      "cell_type": "code",
      "source": [],
      "metadata": {
        "id": "wr7hPRjzT3V9"
      },
      "execution_count": null,
      "outputs": []
    }
  ]
}